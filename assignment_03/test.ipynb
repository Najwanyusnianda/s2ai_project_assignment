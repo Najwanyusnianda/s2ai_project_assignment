{
 "cells": [
  {
   "cell_type": "code",
   "execution_count": 1,
   "metadata": {},
   "outputs": [],
   "source": [
    "import os\n",
    "def get_images(folder):\n",
    "    \"\"\"\n",
    "    Collects all images in subfolders of the given folder.\n",
    "    \n",
    "    Args:\n",
    "        folder (str): Path to the main folder containing person subfolders.\n",
    "        \n",
    "    Returns:\n",
    "        List[dict]: A list of dictionaries, each containing:\n",
    "            - 'person': Name of the person (subfolder name)\n",
    "            - 'path': List of image paths for that person\n",
    "    \"\"\"\n",
    "    images = []\n",
    "    \n",
    "    for person in os.listdir(folder):\n",
    "        person_dir = os.path.join(folder, person)\n",
    "        \n",
    "        # Skip if not a directory\n",
    "        if not os.path.isdir(person_dir):\n",
    "            continue\n",
    "            \n",
    "        # Initialize person entry\n",
    "        person_images = {'person': person, 'path': []}\n",
    "        \n",
    "        # Collect all image paths for this person\n",
    "        for file in os.listdir(person_dir):\n",
    "            file_path = os.path.join(person_dir, file)\n",
    "            person_images['path'].append(file_path)\n",
    "        \n",
    "        # Add to the main list\n",
    "        images.append(person_images)\n",
    "    \n",
    "    return images\n"
   ]
  },
  {
   "cell_type": "code",
   "execution_count": 14,
   "metadata": {},
   "outputs": [],
   "source": [
    "train_images_set=get_images('dataset/stagging/sampleset')    \n",
    "test_images_set=get_images('dataset/stagging/testingset')\n"
   ]
  },
  {
   "cell_type": "code",
   "execution_count": 15,
   "metadata": {},
   "outputs": [],
   "source": [
    "# Create a dictionary mapping person names to their image paths\n",
    "train_dict = {p[\"person\"]: p[\"path\"] for p in train_images_set}\n",
    "test_dict = {p[\"person\"]: p[\"path\"] for p in test_images_set}\n",
    "\n",
    "train_persons = list(train_dict.keys())\n",
    "test_persons = list(test_dict.keys())"
   ]
  },
  {
   "cell_type": "code",
   "execution_count": 26,
   "metadata": {},
   "outputs": [
    {
     "name": "stdout",
     "output_type": "stream",
     "text": [
      "[('dataset/stagging/sampleset\\\\Ashley Jones\\\\Ashley Jones_18.jpg', 'dataset/stagging/testingset\\\\Ashley Jones\\\\Ashley Jones_3.jpg'), ('dataset/stagging/sampleset\\\\Ashley Jones\\\\Ashley Jones_8.jpg', 'dataset/stagging/testingset\\\\Ashley Jones\\\\Ashley Jones_1.jpg'), ('dataset/stagging/sampleset\\\\Ashley Jones\\\\Ashley Jones_6.jpg', 'dataset/stagging/testingset\\\\Ashley Jones\\\\Ashley Jones_5.jpg'), ('dataset/stagging/sampleset\\\\Ashley Jones\\\\Ashley Jones_4.jpg', 'dataset/stagging/testingset\\\\Ashley Jones\\\\Ashley Jones_2.jpg'), ('dataset/stagging/sampleset\\\\Ashley Jones\\\\Ashley Jones_13.jpg', 'dataset/stagging/testingset\\\\Ashley Jones\\\\Ashley Jones_4.jpg')]\n",
      "[('dataset/stagging/sampleset\\\\Barbara Carrera\\\\Barbara Carrera_10.jpg', 'dataset/stagging/testingset\\\\Barbara Carrera\\\\Barbara Carrera_5.jpg'), ('dataset/stagging/sampleset\\\\Barbara Carrera\\\\Barbara Carrera_15.jpg', 'dataset/stagging/testingset\\\\Barbara Carrera\\\\Barbara Carrera_2.jpg'), ('dataset/stagging/sampleset\\\\Barbara Carrera\\\\Barbara Carrera_16.jpg', 'dataset/stagging/testingset\\\\Barbara Carrera\\\\Barbara Carrera_4.jpg'), ('dataset/stagging/sampleset\\\\Barbara Carrera\\\\Barbara Carrera_17.jpg', 'dataset/stagging/testingset\\\\Barbara Carrera\\\\Barbara Carrera_3.jpg'), ('dataset/stagging/sampleset\\\\Barbara Carrera\\\\Barbara Carrera_8.jpg', 'dataset/stagging/testingset\\\\Barbara Carrera\\\\Barbara Carrera_1.jpg')]\n",
      "[('dataset/stagging/sampleset\\\\Ben Affleck\\\\Ben Affleck_6.jpg', 'dataset/stagging/testingset\\\\Ben Affleck\\\\Ben Affleck_1.jpg'), ('dataset/stagging/sampleset\\\\Ben Affleck\\\\Ben Affleck_15.jpg', 'dataset/stagging/testingset\\\\Ben Affleck\\\\Ben Affleck_5.jpg'), ('dataset/stagging/sampleset\\\\Ben Affleck\\\\Ben Affleck_16.jpg', 'dataset/stagging/testingset\\\\Ben Affleck\\\\Ben Affleck_2.jpg'), ('dataset/stagging/sampleset\\\\Ben Affleck\\\\Ben Affleck_17.jpg', 'dataset/stagging/testingset\\\\Ben Affleck\\\\Ben Affleck_4.jpg'), ('dataset/stagging/sampleset\\\\Ben Affleck\\\\Ben Affleck_12.jpg', 'dataset/stagging/testingset\\\\Ben Affleck\\\\Ben Affleck_3.jpg')]\n",
      "[('dataset/stagging/sampleset\\\\Ben McKenzie\\\\Ben McKenzie_14.jpg', 'dataset/stagging/testingset\\\\Ben McKenzie\\\\Ben McKenzie_3.jpg'), ('dataset/stagging/sampleset\\\\Ben McKenzie\\\\Ben McKenzie_15.jpg', 'dataset/stagging/testingset\\\\Ben McKenzie\\\\Ben McKenzie_4.jpg'), ('dataset/stagging/sampleset\\\\Ben McKenzie\\\\Ben McKenzie_20.jpg', 'dataset/stagging/testingset\\\\Ben McKenzie\\\\Ben McKenzie_1.jpg'), ('dataset/stagging/sampleset\\\\Ben McKenzie\\\\Ben McKenzie_5.jpg', 'dataset/stagging/testingset\\\\Ben McKenzie\\\\Ben McKenzie_2.jpg'), ('dataset/stagging/sampleset\\\\Ben McKenzie\\\\Ben McKenzie_17.jpg', 'dataset/stagging/testingset\\\\Ben McKenzie\\\\Ben McKenzie_5.jpg')]\n",
      "[('dataset/stagging/sampleset\\\\Bill Hader\\\\Bill Hader_17.jpg', 'dataset/stagging/testingset\\\\Bill Hader\\\\Bill Hader_4.jpg'), ('dataset/stagging/sampleset\\\\Bill Hader\\\\Bill Hader_16.jpg', 'dataset/stagging/testingset\\\\Bill Hader\\\\Bill Hader_2.jpg'), ('dataset/stagging/sampleset\\\\Bill Hader\\\\Bill Hader_9.jpg', 'dataset/stagging/testingset\\\\Bill Hader\\\\Bill Hader_1.jpg'), ('dataset/stagging/sampleset\\\\Bill Hader\\\\Bill Hader_4.jpg', 'dataset/stagging/testingset\\\\Bill Hader\\\\Bill Hader_3.jpg'), ('dataset/stagging/sampleset\\\\Bill Hader\\\\Bill Hader_10.jpg', 'dataset/stagging/testingset\\\\Bill Hader\\\\Bill Hader_5.jpg')]\n",
      "[('dataset/stagging/sampleset\\\\Caroline Dhavernas\\\\Caroline Dhavernas_1.jpg', 'dataset/stagging/testingset\\\\Caroline Dhavernas\\\\Caroline Dhavernas_2.jpg'), ('dataset/stagging/sampleset\\\\Caroline Dhavernas\\\\Caroline Dhavernas_10.jpg', 'dataset/stagging/testingset\\\\Caroline Dhavernas\\\\Caroline Dhavernas_5.jpg'), ('dataset/stagging/sampleset\\\\Caroline Dhavernas\\\\Caroline Dhavernas_18.jpg', 'dataset/stagging/testingset\\\\Caroline Dhavernas\\\\Caroline Dhavernas_1.jpg'), ('dataset/stagging/sampleset\\\\Caroline Dhavernas\\\\Caroline Dhavernas_16.jpg', 'dataset/stagging/testingset\\\\Caroline Dhavernas\\\\Caroline Dhavernas_3.jpg'), ('dataset/stagging/sampleset\\\\Caroline Dhavernas\\\\Caroline Dhavernas_15.jpg', 'dataset/stagging/testingset\\\\Caroline Dhavernas\\\\Caroline Dhavernas_4.jpg')]\n",
      "[('dataset/stagging/sampleset\\\\Charlie Sheen\\\\Charlie Sheen_5.jpg', 'dataset/stagging/testingset\\\\Charlie Sheen\\\\Charlie Sheen_1.jpg'), ('dataset/stagging/sampleset\\\\Charlie Sheen\\\\Charlie Sheen_15.jpg', 'dataset/stagging/testingset\\\\Charlie Sheen\\\\Charlie Sheen_3.jpg'), ('dataset/stagging/sampleset\\\\Charlie Sheen\\\\Charlie Sheen_2.jpg', 'dataset/stagging/testingset\\\\Charlie Sheen\\\\Charlie Sheen_4.jpg'), ('dataset/stagging/sampleset\\\\Charlie Sheen\\\\Charlie Sheen_7.jpg', 'dataset/stagging/testingset\\\\Charlie Sheen\\\\Charlie Sheen_5.jpg'), ('dataset/stagging/sampleset\\\\Charlie Sheen\\\\Charlie Sheen_16.jpg', 'dataset/stagging/testingset\\\\Charlie Sheen\\\\Charlie Sheen_2.jpg')]\n",
      "[]\n",
      "[('dataset/stagging/sampleset\\\\Eileen Davidson\\\\Eileen Davidson_11.jpg', 'dataset/stagging/testingset\\\\Eileen Davidson\\\\Eileen Davidson_3.jpg'), ('dataset/stagging/sampleset\\\\Eileen Davidson\\\\Eileen Davidson_10.jpg', 'dataset/stagging/testingset\\\\Eileen Davidson\\\\Eileen Davidson_5.jpg'), ('dataset/stagging/sampleset\\\\Eileen Davidson\\\\Eileen Davidson_14.jpg', 'dataset/stagging/testingset\\\\Eileen Davidson\\\\Eileen Davidson_2.jpg'), ('dataset/stagging/sampleset\\\\Eileen Davidson\\\\Eileen Davidson_16.jpg', 'dataset/stagging/testingset\\\\Eileen Davidson\\\\Eileen Davidson_4.jpg'), ('dataset/stagging/sampleset\\\\Eileen Davidson\\\\Eileen Davidson_5.jpg', 'dataset/stagging/testingset\\\\Eileen Davidson\\\\Eileen Davidson_1.jpg')]\n",
      "[('dataset/stagging/sampleset\\\\James Brolin\\\\James Brolin_12.jpg', 'dataset/stagging/testingset\\\\James Brolin\\\\James Brolin_1.jpg'), ('dataset/stagging/sampleset\\\\James Brolin\\\\James Brolin_19.jpg', 'dataset/stagging/testingset\\\\James Brolin\\\\James Brolin_5.jpg'), ('dataset/stagging/sampleset\\\\James Brolin\\\\James Brolin_5.jpg', 'dataset/stagging/testingset\\\\James Brolin\\\\James Brolin_3.jpg'), ('dataset/stagging/sampleset\\\\James Brolin\\\\James Brolin_15.jpg', 'dataset/stagging/testingset\\\\James Brolin\\\\James Brolin_2.jpg'), ('dataset/stagging/sampleset\\\\James Brolin\\\\James Brolin_17.jpg', 'dataset/stagging/testingset\\\\James Brolin\\\\James Brolin_4.jpg')]\n",
      "[('dataset/stagging/sampleset\\\\Johnny Depp\\\\Johnny Depp_4.jpg', 'dataset/stagging/testingset\\\\Johnny Depp\\\\Johnny Depp_4.jpg'), ('dataset/stagging/sampleset\\\\Johnny Depp\\\\Johnny Depp_15.jpg', 'dataset/stagging/testingset\\\\Johnny Depp\\\\Johnny Depp_3.jpg'), ('dataset/stagging/sampleset\\\\Johnny Depp\\\\Johnny Depp_17.jpg', 'dataset/stagging/testingset\\\\Johnny Depp\\\\Johnny Depp_2.jpg'), ('dataset/stagging/sampleset\\\\Johnny Depp\\\\Johnny Depp_8.jpg', 'dataset/stagging/testingset\\\\Johnny Depp\\\\Johnny Depp_1.jpg'), ('dataset/stagging/sampleset\\\\Johnny Depp\\\\Johnny Depp_3.jpg', 'dataset/stagging/testingset\\\\Johnny Depp\\\\Johnny Depp_5.jpg')]\n",
      "[('dataset/stagging/sampleset\\\\Justin Timberlake\\\\Justin Timberlake_18.jpg', 'dataset/stagging/testingset\\\\Justin Timberlake\\\\Justin Timberlake_1.jpg'), ('dataset/stagging/sampleset\\\\Justin Timberlake\\\\Justin Timberlake_4.jpg', 'dataset/stagging/testingset\\\\Justin Timberlake\\\\Justin Timberlake_3.jpg'), ('dataset/stagging/sampleset\\\\Justin Timberlake\\\\Justin Timberlake_13.jpg', 'dataset/stagging/testingset\\\\Justin Timberlake\\\\Justin Timberlake_2.jpg'), ('dataset/stagging/sampleset\\\\Justin Timberlake\\\\Justin Timberlake_20.jpg', 'dataset/stagging/testingset\\\\Justin Timberlake\\\\Justin Timberlake_4.jpg'), ('dataset/stagging/sampleset\\\\Justin Timberlake\\\\Justin Timberlake_11.jpg', 'dataset/stagging/testingset\\\\Justin Timberlake\\\\Justin Timberlake_5.jpg')]\n",
      "[('dataset/stagging/sampleset\\\\Patrick Dempsey\\\\Patrick Dempsey_16.jpg', 'dataset/stagging/testingset\\\\Patrick Dempsey\\\\Patrick Dempsey_3.jpg'), ('dataset/stagging/sampleset\\\\Patrick Dempsey\\\\Patrick Dempsey_2.jpg', 'dataset/stagging/testingset\\\\Patrick Dempsey\\\\Patrick Dempsey_2.jpg'), ('dataset/stagging/sampleset\\\\Patrick Dempsey\\\\Patrick Dempsey_20.jpg', 'dataset/stagging/testingset\\\\Patrick Dempsey\\\\Patrick Dempsey_4.jpg'), ('dataset/stagging/sampleset\\\\Patrick Dempsey\\\\Patrick Dempsey_18.jpg', 'dataset/stagging/testingset\\\\Patrick Dempsey\\\\Patrick Dempsey_1.jpg'), ('dataset/stagging/sampleset\\\\Patrick Dempsey\\\\Patrick Dempsey_5.jpg', 'dataset/stagging/testingset\\\\Patrick Dempsey\\\\Patrick Dempsey_5.jpg')]\n",
      "[('dataset/stagging/sampleset\\\\Rachel Dratch\\\\Rachel Dratch_18.jpg', 'dataset/stagging/testingset\\\\Rachel Dratch\\\\Rachel Dratch_3.jpg'), ('dataset/stagging/sampleset\\\\Rachel Dratch\\\\Rachel Dratch_5.jpg', 'dataset/stagging/testingset\\\\Rachel Dratch\\\\Rachel Dratch_5.jpg'), ('dataset/stagging/sampleset\\\\Rachel Dratch\\\\Rachel Dratch_3.jpg', 'dataset/stagging/testingset\\\\Rachel Dratch\\\\Rachel Dratch_1.jpg'), ('dataset/stagging/sampleset\\\\Rachel Dratch\\\\Rachel Dratch_16.jpg', 'dataset/stagging/testingset\\\\Rachel Dratch\\\\Rachel Dratch_4.jpg'), ('dataset/stagging/sampleset\\\\Rachel Dratch\\\\Rachel Dratch_9.jpg', 'dataset/stagging/testingset\\\\Rachel Dratch\\\\Rachel Dratch_2.jpg')]\n",
      "[('dataset/stagging/sampleset\\\\S. Epatha Merkerson\\\\S. Epatha Merkerson_11.jpg', 'dataset/stagging/testingset\\\\S. Epatha Merkerson\\\\S. Epatha Merkerson_2.jpg'), ('dataset/stagging/sampleset\\\\S. Epatha Merkerson\\\\S. Epatha Merkerson_3.jpg', 'dataset/stagging/testingset\\\\S. Epatha Merkerson\\\\S. Epatha Merkerson_1.jpg'), ('dataset/stagging/sampleset\\\\S. Epatha Merkerson\\\\S. Epatha Merkerson_9.jpg', 'dataset/stagging/testingset\\\\S. Epatha Merkerson\\\\S. Epatha Merkerson_5.jpg'), ('dataset/stagging/sampleset\\\\S. Epatha Merkerson\\\\S. Epatha Merkerson_15.jpg', 'dataset/stagging/testingset\\\\S. Epatha Merkerson\\\\S. Epatha Merkerson_4.jpg'), ('dataset/stagging/sampleset\\\\S. Epatha Merkerson\\\\S. Epatha Merkerson_14.jpg', 'dataset/stagging/testingset\\\\S. Epatha Merkerson\\\\S. Epatha Merkerson_3.jpg')]\n",
      "[('dataset/stagging/sampleset\\\\Shelley Hack\\\\Shelley Hack_2.jpg', 'dataset/stagging/testingset\\\\Shelley Hack\\\\Shelley Hack_4.jpg'), ('dataset/stagging/sampleset\\\\Shelley Hack\\\\Shelley Hack_12.jpg', 'dataset/stagging/testingset\\\\Shelley Hack\\\\Shelley Hack_2.jpg'), ('dataset/stagging/sampleset\\\\Shelley Hack\\\\Shelley Hack_13.jpg', 'dataset/stagging/testingset\\\\Shelley Hack\\\\Shelley Hack_3.jpg'), ('dataset/stagging/sampleset\\\\Shelley Hack\\\\Shelley Hack_9.jpg', 'dataset/stagging/testingset\\\\Shelley Hack\\\\Shelley Hack_5.jpg'), ('dataset/stagging/sampleset\\\\Shelley Hack\\\\Shelley Hack_20.jpg', 'dataset/stagging/testingset\\\\Shelley Hack\\\\Shelley Hack_1.jpg')]\n"
     ]
    }
   ],
   "source": [
    "import random\n",
    "same_person_samples=5\n",
    "for test_person in test_persons:\n",
    "        if test_person in train_dict:\n",
    "            # Sample images for same-person verification\n",
    "            train_sample = random.sample(train_dict[test_person], min(same_person_samples, len(train_dict[test_person])))\n",
    "            test_sample = random.sample(test_dict[test_person], min(same_person_samples, len(test_dict[test_person])))\n",
    "            len(list(zip(train_sample, test_sample)))\n",
    "            print(list(zip(train_sample, test_sample)))\n"
   ]
  },
  {
   "cell_type": "code",
   "execution_count": 19,
   "metadata": {},
   "outputs": [
    {
     "data": {
      "text/plain": [
       "20"
      ]
     },
     "execution_count": 19,
     "metadata": {},
     "output_type": "execute_result"
    }
   ],
   "source": [
    "import random\n",
    "same_person_samples = 5\n",
    "\n",
    "for test_person in test_persons:\n",
    "    if test_person in train_dict:\n",
    "        # Sample images for same-person verification\n",
    "        train_sample = random.sample(train_dict[test_person], min(same_person_samples, len(train_dict[test_person])))\n",
    "        test_sample = random.sample(test_dict[test_person], min(same_person_samples, len(test_dict[test_person])))\n",
    "\n",
    "\n",
    "len(train_dict[test_person])"
   ]
  },
  {
   "cell_type": "code",
   "execution_count": 42,
   "metadata": {},
   "outputs": [],
   "source": [
    "from deepface import DeepFace"
   ]
  },
  {
   "cell_type": "code",
   "execution_count": 46,
   "metadata": {},
   "outputs": [],
   "source": [
    "result = DeepFace.verify(\n",
    "    img1_path='dataset/mtcnn_faces/sampleset\\Adrienne_Barbeau\\Adrienne_Barbeau_9044_4231_0.jpeg',\n",
    "    img2_path='dataset/mtcnn_faces/testingset\\Adrienne_Barbeau\\Adrienne_Barbeau_9127_4276_0.jpeg',\n",
    "    model_name='VGG-Face',\n",
    "    distance_metric='cosine',\n",
    "    threshold=0.4,\n",
    "    enforce_detection=False\n",
    ")"
   ]
  },
  {
   "cell_type": "code",
   "execution_count": 45,
   "metadata": {},
   "outputs": [
    {
     "data": {
      "text/plain": [
       "1.005524315457153"
      ]
     },
     "execution_count": 45,
     "metadata": {},
     "output_type": "execute_result"
    }
   ],
   "source": [
    "result[\"distance\"]"
   ]
  },
  {
   "cell_type": "code",
   "execution_count": 9,
   "metadata": {},
   "outputs": [
    {
     "data": {
      "text/plain": [
       "'dataset/pcs_mtcnn_faces/sampleset\\\\Adrienne_Barbeau\\\\Adrienne_Barbeau_9044_4231_0.jpeg'"
      ]
     },
     "execution_count": 9,
     "metadata": {},
     "output_type": "execute_result"
    }
   ],
   "source": [
    "train_path[0]['path']"
   ]
  },
  {
   "cell_type": "code",
   "execution_count": 10,
   "metadata": {},
   "outputs": [
    {
     "ename": "TypeError",
     "evalue": "listdir: path should be string, bytes, os.PathLike or None, not list",
     "output_type": "error",
     "traceback": [
      "\u001b[1;31m---------------------------------------------------------------------------\u001b[0m",
      "\u001b[1;31mTypeError\u001b[0m                                 Traceback (most recent call last)",
      "Cell \u001b[1;32mIn[10], line 1\u001b[0m\n\u001b[1;32m----> 1\u001b[0m \u001b[43mos\u001b[49m\u001b[38;5;241;43m.\u001b[39;49m\u001b[43mlistdir\u001b[49m\u001b[43m(\u001b[49m\u001b[43mtrain_path\u001b[49m\u001b[43m)\u001b[49m\n",
      "\u001b[1;31mTypeError\u001b[0m: listdir: path should be string, bytes, os.PathLike or None, not list"
     ]
    }
   ],
   "source": [
    "os.listdir(train_path)"
   ]
  }
 ],
 "metadata": {
  "kernelspec": {
   "display_name": "base",
   "language": "python",
   "name": "python3"
  },
  "language_info": {
   "codemirror_mode": {
    "name": "ipython",
    "version": 3
   },
   "file_extension": ".py",
   "mimetype": "text/x-python",
   "name": "python",
   "nbconvert_exporter": "python",
   "pygments_lexer": "ipython3",
   "version": "3.12.3"
  }
 },
 "nbformat": 4,
 "nbformat_minor": 2
}
