{
 "cells": [
  {
   "cell_type": "code",
   "execution_count": 2,
   "metadata": {},
   "outputs": [],
   "source": [
    "import os\n",
    "import pandas as pd\n",
    "\n",
    "def list_subfolders_and_count_files(root_directory):\n",
    "    # Dictionary to store subfolder names and their file counts\n",
    "    subfolder_file_counts = {}\n",
    "\n",
    "    # Walk through the root directory\n",
    "    for dirpath, dirnames, filenames in os.walk(root_directory):\n",
    "        # We are only interested in immediate subfolders of the root directory\n",
    "        if dirpath == root_directory:\n",
    "            for dirname in dirnames:\n",
    "                subfolder_path = os.path.join(dirpath, dirname)\n",
    "                # Count the number of files in the subfolder\n",
    "                file_count = len([f for f in os.listdir(subfolder_path) if os.path.isfile(os.path.join(subfolder_path, f))])\n",
    "                subfolder_file_counts[dirname] = file_count\n",
    "\n",
    "    return subfolder_file_counts\n",
    "\n",
    "\n",
    "\n",
    "def save_subfolder_counts_to_dataframe(subfolder_counts, output_file):\n",
    "    # Convert the dictionary to a DataFrame\n",
    "    df = pd.DataFrame(list(subfolder_counts.items()), columns=['Subfolder', 'File Count'])\n",
    "    \n",
    "    return df"
   ]
  },
  {
   "cell_type": "code",
   "execution_count": 11,
   "metadata": {},
   "outputs": [],
   "source": [
    "sampleset_path=\"dataset/stagging/sampleset\"\n",
    "subfolder_counts = list_subfolders_and_count_files(sampleset_path)\n",
    "df_Sampleset = save_subfolder_counts_to_dataframe(subfolder_counts, \"subfolder_counts.csv\")\n",
    "\n",
    "testingset_path=\"dataset/stagging/testingset\"\n",
    "subfolder_counts = list_subfolders_and_count_files(testingset_path)\n",
    "df_Testingset = save_subfolder_counts_to_dataframe(subfolder_counts, \"subfolder_counts.csv\")\n",
    "\n",
    "validationset_path=\"dataset/stagging/validationset\"\n",
    "subfolder_counts = list_subfolders_and_count_files(validationset_path)\n",
    "df_Validationset = save_subfolder_counts_to_dataframe(subfolder_counts, \"subfolder_counts.csv\")"
   ]
  },
  {
   "cell_type": "code",
   "execution_count": null,
   "metadata": {
    "vscode": {
     "languageId": "r"
    }
   },
   "outputs": [
    {
     "data": {
      "text/plain": [
       "187"
      ]
     },
     "execution_count": 9,
     "metadata": {},
     "output_type": "execute_result"
    }
   ],
   "source": [
    "# Merge the dataframes on the \"Subfolder\" column\n",
    "df_combined = df_Sampleset.merge(df_Testingset, on='Subfolder', suffixes=('_Sampleset', '_Testingset'))\n",
    "df_combined = df_combined.merge(df_Validationset, on='Subfolder')\n",
    "df_combined.rename(columns={'File Count': 'File Count_Validationset'}, inplace=True)\n",
    "\n",
    "# Display the combined dataframe\n",
    "df_combined.head()\n",
    "\n"
   ]
  },
  {
   "cell_type": "code",
   "execution_count": 13,
   "metadata": {},
   "outputs": [
    {
     "data": {
      "application/vnd.microsoft.datawrangler.viewer.v0+json": {
       "columns": [
        {
         "name": "index",
         "rawType": "int64",
         "type": "integer"
        },
        {
         "name": "Subfolder",
         "rawType": "object",
         "type": "string"
        },
        {
         "name": "File Count_Sampleset",
         "rawType": "int64",
         "type": "integer"
        },
        {
         "name": "File Count_Testingset",
         "rawType": "int64",
         "type": "integer"
        },
        {
         "name": "File Count_Validationset",
         "rawType": "int64",
         "type": "integer"
        }
       ],
       "conversionMethod": "pd.DataFrame",
       "ref": "bdf9800d-3876-46b4-b632-82f76cd4e39a",
       "rows": [
        [
         "0",
         "Alan Arkin",
         "20",
         "0",
         "0"
        ],
        [
         "1",
         "Alan Rickman",
         "20",
         "0",
         "0"
        ],
        [
         "2",
         "Alyssa Milano",
         "20",
         "0",
         "0"
        ],
        [
         "3",
         "America Ferrera",
         "20",
         "5",
         "5"
        ],
        [
         "4",
         "Andrea Bowen",
         "18",
         "0",
         "0"
        ],
        [
         "5",
         "Andy Richter",
         "20",
         "0",
         "0"
        ],
        [
         "6",
         "Ashley Benson",
         "20",
         "0",
         "0"
        ],
        [
         "7",
         "Ashley Jones",
         "20",
         "0",
         "0"
        ],
        [
         "8",
         "Ashton Kutcher",
         "20",
         "5",
         "5"
        ],
        [
         "9",
         "Audrey Landers",
         "20",
         "0",
         "0"
        ],
        [
         "10",
         "Barbara Carrera",
         "20",
         "5",
         "5"
        ],
        [
         "11",
         "Ben Kingsley",
         "20",
         "0",
         "0"
        ],
        [
         "12",
         "Ben Stiller",
         "20",
         "5",
         "5"
        ],
        [
         "13",
         "Benicio Del Toro",
         "20",
         "5",
         "5"
        ],
        [
         "14",
         "Billy Bob Thornton",
         "1",
         "0",
         "0"
        ],
        [
         "15",
         "Billy Boyd",
         "20",
         "0",
         "0"
        ],
        [
         "16",
         "Billy Zane",
         "20",
         "0",
         "0"
        ],
        [
         "17",
         "Bobbie Eakes",
         "20",
         "0",
         "0"
        ],
        [
         "18",
         "Brad Pitt",
         "20",
         "0",
         "0"
        ],
        [
         "19",
         "Bruce Willis",
         "20",
         "5",
         "5"
        ],
        [
         "20",
         "Burt Reynolds",
         "20",
         "0",
         "0"
        ],
        [
         "21",
         "Cam Gigandet",
         "20",
         "5",
         "5"
        ],
        [
         "22",
         "Candace Cameron Bure",
         "20",
         "5",
         "5"
        ],
        [
         "23",
         "Candice Bergen",
         "20",
         "5",
         "5"
        ],
        [
         "24",
         "Carey Lowell",
         "20",
         "0",
         "0"
        ],
        [
         "25",
         "Caroline Dhavernas",
         "20",
         "0",
         "0"
        ],
        [
         "26",
         "Carolyn Hennesy",
         "20",
         "5",
         "5"
        ],
        [
         "27",
         "Cary Elwes",
         "20",
         "0",
         "0"
        ],
        [
         "28",
         "Channing Tatum",
         "20",
         "0",
         "0"
        ],
        [
         "29",
         "Chase Masterson",
         "17",
         "0",
         "0"
        ],
        [
         "30",
         "Cheryl Hines",
         "20",
         "0",
         "0"
        ],
        [
         "31",
         "Cheryl Ladd",
         "20",
         "0",
         "0"
        ],
        [
         "32",
         "Chris Evans",
         "20",
         "0",
         "0"
        ],
        [
         "33",
         "Chris Klein",
         "20",
         "5",
         "5"
        ],
        [
         "34",
         "Chris Rock",
         "20",
         "0",
         "0"
        ],
        [
         "35",
         "Christa Miller",
         "20",
         "0",
         "0"
        ],
        [
         "36",
         "Christian Slater",
         "20",
         "5",
         "5"
        ],
        [
         "37",
         "Christopher Lloyd",
         "20",
         "5",
         "5"
        ],
        [
         "38",
         "Chyler Leigh",
         "20",
         "0",
         "0"
        ],
        [
         "39",
         "Colin Farrell",
         "20",
         "5",
         "5"
        ],
        [
         "40",
         "Courteney Cox",
         "20",
         "0",
         "0"
        ],
        [
         "41",
         "Crystal Chappell",
         "20",
         "0",
         "0"
        ],
        [
         "42",
         "Dan Lauria",
         "20",
         "5",
         "5"
        ],
        [
         "43",
         "Dana Delany",
         "20",
         "5",
         "5"
        ],
        [
         "44",
         "Danica McKellar",
         "20",
         "0",
         "0"
        ],
        [
         "45",
         "Daniel Radcliffe",
         "20",
         "5",
         "5"
        ],
        [
         "46",
         "David Cross",
         "20",
         "0",
         "0"
        ],
        [
         "47",
         "David Schwimmer",
         "20",
         "0",
         "0"
        ],
        [
         "48",
         "Debra Messing",
         "20",
         "5",
         "5"
        ],
        [
         "49",
         "Delta Burke",
         "20",
         "5",
         "5"
        ]
       ],
       "shape": {
        "columns": 4,
        "rows": 187
       }
      },
      "text/html": [
       "<div>\n",
       "<style scoped>\n",
       "    .dataframe tbody tr th:only-of-type {\n",
       "        vertical-align: middle;\n",
       "    }\n",
       "\n",
       "    .dataframe tbody tr th {\n",
       "        vertical-align: top;\n",
       "    }\n",
       "\n",
       "    .dataframe thead th {\n",
       "        text-align: right;\n",
       "    }\n",
       "</style>\n",
       "<table border=\"1\" class=\"dataframe\">\n",
       "  <thead>\n",
       "    <tr style=\"text-align: right;\">\n",
       "      <th></th>\n",
       "      <th>Subfolder</th>\n",
       "      <th>File Count_Sampleset</th>\n",
       "      <th>File Count_Testingset</th>\n",
       "      <th>File Count_Validationset</th>\n",
       "    </tr>\n",
       "  </thead>\n",
       "  <tbody>\n",
       "    <tr>\n",
       "      <th>0</th>\n",
       "      <td>Alan Arkin</td>\n",
       "      <td>20</td>\n",
       "      <td>0</td>\n",
       "      <td>0</td>\n",
       "    </tr>\n",
       "    <tr>\n",
       "      <th>1</th>\n",
       "      <td>Alan Rickman</td>\n",
       "      <td>20</td>\n",
       "      <td>0</td>\n",
       "      <td>0</td>\n",
       "    </tr>\n",
       "    <tr>\n",
       "      <th>2</th>\n",
       "      <td>Alyssa Milano</td>\n",
       "      <td>20</td>\n",
       "      <td>0</td>\n",
       "      <td>0</td>\n",
       "    </tr>\n",
       "    <tr>\n",
       "      <th>3</th>\n",
       "      <td>America Ferrera</td>\n",
       "      <td>20</td>\n",
       "      <td>5</td>\n",
       "      <td>5</td>\n",
       "    </tr>\n",
       "    <tr>\n",
       "      <th>4</th>\n",
       "      <td>Andrea Bowen</td>\n",
       "      <td>18</td>\n",
       "      <td>0</td>\n",
       "      <td>0</td>\n",
       "    </tr>\n",
       "    <tr>\n",
       "      <th>...</th>\n",
       "      <td>...</td>\n",
       "      <td>...</td>\n",
       "      <td>...</td>\n",
       "      <td>...</td>\n",
       "    </tr>\n",
       "    <tr>\n",
       "      <th>182</th>\n",
       "      <td>Tracey E. Bregman</td>\n",
       "      <td>20</td>\n",
       "      <td>0</td>\n",
       "      <td>0</td>\n",
       "    </tr>\n",
       "    <tr>\n",
       "      <th>183</th>\n",
       "      <td>Valerie Bertinelli</td>\n",
       "      <td>20</td>\n",
       "      <td>0</td>\n",
       "      <td>0</td>\n",
       "    </tr>\n",
       "    <tr>\n",
       "      <th>184</th>\n",
       "      <td>Victoria Justice</td>\n",
       "      <td>20</td>\n",
       "      <td>5</td>\n",
       "      <td>5</td>\n",
       "    </tr>\n",
       "    <tr>\n",
       "      <th>185</th>\n",
       "      <td>Yasmine Bleeth</td>\n",
       "      <td>20</td>\n",
       "      <td>0</td>\n",
       "      <td>0</td>\n",
       "    </tr>\n",
       "    <tr>\n",
       "      <th>186</th>\n",
       "      <td>Zooey Deschanel</td>\n",
       "      <td>20</td>\n",
       "      <td>0</td>\n",
       "      <td>0</td>\n",
       "    </tr>\n",
       "  </tbody>\n",
       "</table>\n",
       "<p>187 rows × 4 columns</p>\n",
       "</div>"
      ],
      "text/plain": [
       "              Subfolder  File Count_Sampleset  File Count_Testingset  \\\n",
       "0            Alan Arkin                    20                      0   \n",
       "1          Alan Rickman                    20                      0   \n",
       "2         Alyssa Milano                    20                      0   \n",
       "3       America Ferrera                    20                      5   \n",
       "4          Andrea Bowen                    18                      0   \n",
       "..                  ...                   ...                    ...   \n",
       "182   Tracey E. Bregman                    20                      0   \n",
       "183  Valerie Bertinelli                    20                      0   \n",
       "184    Victoria Justice                    20                      5   \n",
       "185      Yasmine Bleeth                    20                      0   \n",
       "186     Zooey Deschanel                    20                      0   \n",
       "\n",
       "     File Count_Validationset  \n",
       "0                           0  \n",
       "1                           0  \n",
       "2                           0  \n",
       "3                           5  \n",
       "4                           0  \n",
       "..                        ...  \n",
       "182                         0  \n",
       "183                         0  \n",
       "184                         5  \n",
       "185                         0  \n",
       "186                         0  \n",
       "\n",
       "[187 rows x 4 columns]"
      ]
     },
     "execution_count": 13,
     "metadata": {},
     "output_type": "execute_result"
    }
   ],
   "source": [
    "df_combined"
   ]
  },
  {
   "cell_type": "code",
   "execution_count": 22,
   "metadata": {},
   "outputs": [],
   "source": [
    "df_temp=df_combined[\n",
    "    (df_combined['File Count_Sampleset'] == 20) &\n",
    "    (df_combined['File Count_Testingset'] == 0) &\n",
    "    (df_combined['File Count_Validationset'] == 0)\n",
    "]"
   ]
  },
  {
   "cell_type": "code",
   "execution_count": null,
   "metadata": {},
   "outputs": [
    {
     "data": {
      "text/plain": [
       "array(['Alan Arkin', 'Alan Rickman', 'Alyssa Milano', 'Andy Richter',\n",
       "       'Ashley Benson', 'Ashley Jones', 'Audrey Landers', 'Ben Kingsley',\n",
       "       'Billy Boyd', 'Billy Zane', 'Bobbie Eakes', 'Brad Pitt',\n",
       "       'Burt Reynolds', 'Carey Lowell', 'Caroline Dhavernas',\n",
       "       'Cary Elwes', 'Channing Tatum', 'Cheryl Hines', 'Cheryl Ladd',\n",
       "       'Chris Evans', 'Chris Rock', 'Christa Miller', 'Chyler Leigh',\n",
       "       'Courteney Cox', 'Crystal Chappell', 'Danica McKellar',\n",
       "       'David Cross', 'David Schwimmer', 'Dermot Mulroney',\n",
       "       'Desmond Harrington', 'Diego Luna', 'Dina Meyer', 'Dustin Hoffman',\n",
       "       'Edie Falco', 'Elijah Wood', 'Elizabeth Berkley',\n",
       "       'Elizabeth Hendrickson', 'Farah Fath', 'Frances Fisher',\n",
       "       'Gates McFadden', 'Geoffrey Rush', 'George Clooney',\n",
       "       'Harrison Ford', 'Hayden Christensen', 'Heather Locklear',\n",
       "       'Ioan Gruffudd', 'Jaden Smith', 'Jake Gyllenhaal', 'Jake Weber',\n",
       "       'James Frain', 'James Franco', 'James McAvoy', 'January Jones',\n",
       "       'Jason Lee', 'Jason Sudeikis', 'Jean Reno', 'Jeremy Sisto',\n",
       "       'Jerry Seinfeld', 'Jessica Capshaw', 'Jet Li', 'Joan Collins',\n",
       "       'John Cusack', 'Jon Voight', 'Jonah Hill', 'Josh Duhamel',\n",
       "       'Jude Law', 'Julia Louis-Dreyfus', 'Julie Bowen', 'Justin Long',\n",
       "       'Justine Bateman', 'Kal Penn', 'Karl Urban', 'Katrina Bowden',\n",
       "       'Kim Cattrall', 'Kristen Alderson', 'Kristin Chenoweth',\n",
       "       'Laura Leighton', 'Laurie Metcalf', 'Mark Wahlberg',\n",
       "       'Martin Sheen', 'Mary Beth Evans', 'Matt Dillon', 'Matt LeBlanc',\n",
       "       'Melissa Archer', 'Melissa Claire Egan', 'Michael Vartan',\n",
       "       'Michael Weatherly', 'Milo Ventimiglia', 'Neal McDonough',\n",
       "       'Neve Campbell', 'Nicolas Cage', \"Olivia d'Abo\",\n",
       "       'Pamela Sue Martin', 'Patrick Swayze', 'Peri Gilpin',\n",
       "       'Rachel Dratch', 'Rebecca Herbst', 'Robert Redford',\n",
       "       'Ryan Phillippe', 'Sarah Hyland', 'Selena Gomez', 'Shirley Jones',\n",
       "       'Steve Carell', 'T.J. Thyne', 'Taylor Atelian', 'Tia Carrere',\n",
       "       'Tobey Maguire', 'Tracey E. Bregman', 'Valerie Bertinelli',\n",
       "       'Yasmine Bleeth', 'Zooey Deschanel'], dtype=object)"
      ]
     },
     "execution_count": 26,
     "metadata": {},
     "output_type": "execute_result"
    }
   ],
   "source": []
  },
  {
   "cell_type": "code",
   "execution_count": 17,
   "metadata": {},
   "outputs": [
    {
     "data": {
      "application/vnd.microsoft.datawrangler.viewer.v0+json": {
       "columns": [
        {
         "name": "index",
         "rawType": "int64",
         "type": "integer"
        },
        {
         "name": "Subfolder",
         "rawType": "object",
         "type": "string"
        },
        {
         "name": "File Count",
         "rawType": "int64",
         "type": "integer"
        }
       ],
       "conversionMethod": "pd.DataFrame",
       "ref": "fa30ab9d-892b-4c91-9c37-4ed76855e7b9",
       "rows": [
        [
         "0",
         "Alan Arkin",
         "20"
        ],
        [
         "1",
         "Alan Rickman",
         "20"
        ],
        [
         "2",
         "Alyssa Milano",
         "20"
        ],
        [
         "3",
         "America Ferrera",
         "20"
        ],
        [
         "4",
         "Andrea Bowen",
         "18"
        ]
       ],
       "shape": {
        "columns": 2,
        "rows": 5
       }
      },
      "text/html": [
       "<div>\n",
       "<style scoped>\n",
       "    .dataframe tbody tr th:only-of-type {\n",
       "        vertical-align: middle;\n",
       "    }\n",
       "\n",
       "    .dataframe tbody tr th {\n",
       "        vertical-align: top;\n",
       "    }\n",
       "\n",
       "    .dataframe thead th {\n",
       "        text-align: right;\n",
       "    }\n",
       "</style>\n",
       "<table border=\"1\" class=\"dataframe\">\n",
       "  <thead>\n",
       "    <tr style=\"text-align: right;\">\n",
       "      <th></th>\n",
       "      <th>Subfolder</th>\n",
       "      <th>File Count</th>\n",
       "    </tr>\n",
       "  </thead>\n",
       "  <tbody>\n",
       "    <tr>\n",
       "      <th>0</th>\n",
       "      <td>Alan Arkin</td>\n",
       "      <td>20</td>\n",
       "    </tr>\n",
       "    <tr>\n",
       "      <th>1</th>\n",
       "      <td>Alan Rickman</td>\n",
       "      <td>20</td>\n",
       "    </tr>\n",
       "    <tr>\n",
       "      <th>2</th>\n",
       "      <td>Alyssa Milano</td>\n",
       "      <td>20</td>\n",
       "    </tr>\n",
       "    <tr>\n",
       "      <th>3</th>\n",
       "      <td>America Ferrera</td>\n",
       "      <td>20</td>\n",
       "    </tr>\n",
       "    <tr>\n",
       "      <th>4</th>\n",
       "      <td>Andrea Bowen</td>\n",
       "      <td>18</td>\n",
       "    </tr>\n",
       "  </tbody>\n",
       "</table>\n",
       "</div>"
      ],
      "text/plain": [
       "         Subfolder  File Count\n",
       "0       Alan Arkin          20\n",
       "1     Alan Rickman          20\n",
       "2    Alyssa Milano          20\n",
       "3  America Ferrera          20\n",
       "4     Andrea Bowen          18"
      ]
     },
     "execution_count": 17,
     "metadata": {},
     "output_type": "execute_result"
    }
   ],
   "source": [
    "df_Sampleset.head()"
   ]
  },
  {
   "cell_type": "code",
   "execution_count": 24,
   "metadata": {},
   "outputs": [
    {
     "name": "stdout",
     "output_type": "stream",
     "text": [
      "number of row (images) : 106865\n"
     ]
    }
   ],
   "source": [
    "## import metadata\n",
    "facescrub_df_actor = pd.read_csv('faceScrub/facescrub_actors.txt',delimiter='\\t',header=None)\n",
    "facescrub_df_actress = pd.read_csv('faceScrub/facescrub_actresses.txt',delimiter='\\t',header=None)\n",
    "\n",
    "#combine dataframe\n",
    "facescrub_df=pd.concat([facescrub_df_actor,facescrub_df_actress],axis=0)\n",
    "\n",
    "print(f\"number of row (images) : {len(facescrub_df)}\")"
   ]
  },
  {
   "cell_type": "code",
   "execution_count": 31,
   "metadata": {},
   "outputs": [],
   "source": [
    "# Step 1: Extract the first row as the new header\n",
    "new_header = facescrub_df.iloc[0]\n",
    "\n",
    "# Step 2: Set the new header\n",
    "facescrub_df.columns = new_header\n",
    "\n",
    "# Step 3: Drop the first row (now redundant)\n",
    "df = facescrub_df[1:]\n",
    "\n",
    "# Reset index (optional)\n",
    "facescrub_df_new = df.reset_index(drop=True)"
   ]
  },
  {
   "cell_type": "code",
   "execution_count": 34,
   "metadata": {},
   "outputs": [],
   "source": [
    "filtered_df = facescrub_df_new[facescrub_df_new[\"name\"].isin(df_temp[\"Subfolder\"].values)]"
   ]
  },
  {
   "cell_type": "code",
   "execution_count": 35,
   "metadata": {},
   "outputs": [
    {
     "data": {
      "application/vnd.microsoft.datawrangler.viewer.v0+json": {
       "columns": [
        {
         "name": "index",
         "rawType": "int64",
         "type": "integer"
        },
        {
         "name": "name",
         "rawType": "object",
         "type": "string"
        },
        {
         "name": "image_id",
         "rawType": "object",
         "type": "string"
        },
        {
         "name": "face_id",
         "rawType": "object",
         "type": "string"
        },
        {
         "name": "url",
         "rawType": "object",
         "type": "string"
        },
        {
         "name": "bbox",
         "rawType": "object",
         "type": "string"
        },
        {
         "name": "sha256",
         "rawType": "object",
         "type": "string"
        }
       ],
       "conversionMethod": "pd.DataFrame",
       "ref": "cf43aff7-825a-4d60-aae8-dedc4ee8e39a",
       "rows": [
        [
         "1419",
         "Alan Arkin",
         "2510",
         "1428",
         "http://upload.wikimedia.org/wikipedia/commons/0/02/Alan_Arkin_-_1975.jpg",
         "156,222,548,614",
         "3c97c0f369c05381631178667925ee9821ca271fe6feb7b6e3a88f2985e29e1e"
        ],
        [
         "1420",
         "Alan Arkin",
         "2511",
         "1429",
         "http://www.nndb.com/people/777/000022711/alan-arkin-sized.jpg",
         "57,25,172,140",
         "c38286df5ef80ca55cb5fddae185379acdb6db36bb8d11e3199e16a45f28b4a5"
        ],
        [
         "1421",
         "Alan Arkin",
         "2512",
         "1430",
         "http://ia.media-imdb.com/images/M/MV5BMjA4NDk5Njc3MF5BMl5BanBnXkFtZTYwNjc5NDc0._V1_SX640_SY720_.jpg",
         "26,85,243,302",
         "b4df4f3a91905799aff06f8564330b60d304a60389e02bb2769cff283d9ea273"
        ],
        [
         "1422",
         "Alan Arkin",
         "2514",
         "1431",
         "http://3.bp.blogspot.com/--qQ0lGtma_M/T3Dp7trnvAI/AAAAAAAAAG4/PK3Lad6VRXw/s1600/arkin.jpg",
         "74,52,232,210",
         "2d7e5907ef1d76f0e7c799cd3d4df01bc3ef7ad1ce44678d3ba336651363789a"
        ],
        [
         "1423",
         "Alan Arkin",
         "2515",
         "1432",
         "http://whatculture.com/wp-content/photos/Alan_Arkin.jpg",
         "81,16,193,128",
         "cf7f7569d842a5030662d37dde9d7fbc77ac4aa8fefe50caea4038b3f73d3e27"
        ]
       ],
       "shape": {
        "columns": 6,
        "rows": 5
       }
      },
      "text/html": [
       "<div>\n",
       "<style scoped>\n",
       "    .dataframe tbody tr th:only-of-type {\n",
       "        vertical-align: middle;\n",
       "    }\n",
       "\n",
       "    .dataframe tbody tr th {\n",
       "        vertical-align: top;\n",
       "    }\n",
       "\n",
       "    .dataframe thead th {\n",
       "        text-align: right;\n",
       "    }\n",
       "</style>\n",
       "<table border=\"1\" class=\"dataframe\">\n",
       "  <thead>\n",
       "    <tr style=\"text-align: right;\">\n",
       "      <th></th>\n",
       "      <th>name</th>\n",
       "      <th>image_id</th>\n",
       "      <th>face_id</th>\n",
       "      <th>url</th>\n",
       "      <th>bbox</th>\n",
       "      <th>sha256</th>\n",
       "    </tr>\n",
       "  </thead>\n",
       "  <tbody>\n",
       "    <tr>\n",
       "      <th>1419</th>\n",
       "      <td>Alan Arkin</td>\n",
       "      <td>2510</td>\n",
       "      <td>1428</td>\n",
       "      <td>http://upload.wikimedia.org/wikipedia/commons/...</td>\n",
       "      <td>156,222,548,614</td>\n",
       "      <td>3c97c0f369c05381631178667925ee9821ca271fe6feb7...</td>\n",
       "    </tr>\n",
       "    <tr>\n",
       "      <th>1420</th>\n",
       "      <td>Alan Arkin</td>\n",
       "      <td>2511</td>\n",
       "      <td>1429</td>\n",
       "      <td>http://www.nndb.com/people/777/000022711/alan-...</td>\n",
       "      <td>57,25,172,140</td>\n",
       "      <td>c38286df5ef80ca55cb5fddae185379acdb6db36bb8d11...</td>\n",
       "    </tr>\n",
       "    <tr>\n",
       "      <th>1421</th>\n",
       "      <td>Alan Arkin</td>\n",
       "      <td>2512</td>\n",
       "      <td>1430</td>\n",
       "      <td>http://ia.media-imdb.com/images/M/MV5BMjA4NDk5...</td>\n",
       "      <td>26,85,243,302</td>\n",
       "      <td>b4df4f3a91905799aff06f8564330b60d304a60389e02b...</td>\n",
       "    </tr>\n",
       "    <tr>\n",
       "      <th>1422</th>\n",
       "      <td>Alan Arkin</td>\n",
       "      <td>2514</td>\n",
       "      <td>1431</td>\n",
       "      <td>http://3.bp.blogspot.com/--qQ0lGtma_M/T3Dp7trn...</td>\n",
       "      <td>74,52,232,210</td>\n",
       "      <td>2d7e5907ef1d76f0e7c799cd3d4df01bc3ef7ad1ce4467...</td>\n",
       "    </tr>\n",
       "    <tr>\n",
       "      <th>1423</th>\n",
       "      <td>Alan Arkin</td>\n",
       "      <td>2515</td>\n",
       "      <td>1432</td>\n",
       "      <td>http://whatculture.com/wp-content/photos/Alan_...</td>\n",
       "      <td>81,16,193,128</td>\n",
       "      <td>cf7f7569d842a5030662d37dde9d7fbc77ac4aa8fefe50...</td>\n",
       "    </tr>\n",
       "  </tbody>\n",
       "</table>\n",
       "</div>"
      ],
      "text/plain": [
       "0           name image_id face_id  \\\n",
       "1419  Alan Arkin     2510    1428   \n",
       "1420  Alan Arkin     2511    1429   \n",
       "1421  Alan Arkin     2512    1430   \n",
       "1422  Alan Arkin     2514    1431   \n",
       "1423  Alan Arkin     2515    1432   \n",
       "\n",
       "0                                                   url             bbox  \\\n",
       "1419  http://upload.wikimedia.org/wikipedia/commons/...  156,222,548,614   \n",
       "1420  http://www.nndb.com/people/777/000022711/alan-...    57,25,172,140   \n",
       "1421  http://ia.media-imdb.com/images/M/MV5BMjA4NDk5...    26,85,243,302   \n",
       "1422  http://3.bp.blogspot.com/--qQ0lGtma_M/T3Dp7trn...    74,52,232,210   \n",
       "1423  http://whatculture.com/wp-content/photos/Alan_...    81,16,193,128   \n",
       "\n",
       "0                                                sha256  \n",
       "1419  3c97c0f369c05381631178667925ee9821ca271fe6feb7...  \n",
       "1420  c38286df5ef80ca55cb5fddae185379acdb6db36bb8d11...  \n",
       "1421  b4df4f3a91905799aff06f8564330b60d304a60389e02b...  \n",
       "1422  2d7e5907ef1d76f0e7c799cd3d4df01bc3ef7ad1ce4467...  \n",
       "1423  cf7f7569d842a5030662d37dde9d7fbc77ac4aa8fefe50...  "
      ]
     },
     "execution_count": 35,
     "metadata": {},
     "output_type": "execute_result"
    }
   ],
   "source": [
    "filtered_df.head()"
   ]
  },
  {
   "cell_type": "code",
   "execution_count": 37,
   "metadata": {},
   "outputs": [
    {
     "data": {
      "application/vnd.microsoft.datawrangler.viewer.v0+json": {
       "columns": [
        {
         "name": "index",
         "rawType": "int64",
         "type": "integer"
        },
        {
         "name": "name",
         "rawType": "object",
         "type": "string"
        },
        {
         "name": "image_id",
         "rawType": "int64",
         "type": "integer"
        },
        {
         "name": "face_id",
         "rawType": "object",
         "type": "string"
        },
        {
         "name": "url",
         "rawType": "object",
         "type": "string"
        },
        {
         "name": "bbox",
         "rawType": "object",
         "type": "string"
        },
        {
         "name": "sha256",
         "rawType": "object",
         "type": "string"
        }
       ],
       "conversionMethod": "pd.DataFrame",
       "ref": "48a85f2c-24c7-4761-8a70-02a9f56fbb35",
       "rows": [
        [
         "0",
         "Alan Arkin",
         "2850",
         "1638",
         "http://www.images99.com/i99/01/11318/11318.jpg",
         "183,47,291,155",
         "bc98b2174020a261ca4f8cd9b912f4087d3e1b2d7b4062a827e37216ca4d0c69"
        ],
        [
         "1",
         "Alan Arkin",
         "2845",
         "1637",
         "http://www.aceshowbiz.com/images/wennpic/newlander-arkin-24th-annual-palm-springs-international-film-festival-awards-gala-02.jpg",
         "394,47,508,161",
         "f83edaec4b768d29c284ccd52d17ad693712a93168b658d3740a0e1bcee17d55"
        ],
        [
         "2",
         "Alan Arkin",
         "2844",
         "1636",
         "http://www.superiorpics.com/wallpaper/file/Alan_Arkin_in_Get_Smart_Wallpaper_5_1280.jpg",
         "188,109,368,289",
         "4b100701994e3f658ca2d559600a7a4699d99259dfee0c7e28cac06257fbd6b9"
        ],
        [
         "3",
         "Alan Arkin",
         "2843",
         "1635",
         "http://famous-relationships.topsynergy.com/%21photos/Alan_Arkin.jpg",
         "24,38,138,152",
         "e9ce19ad6406a9a01b43921cdac2d86cd0ebc193f0df458bb862f09089defcb9"
        ],
        [
         "4",
         "Alan Arkin",
         "2842",
         "1634",
         "http://www.horsetrackhooligans.com/wp-content/uploads/2012/07/alan_arkin-204x300.jpg",
         "20,68,178,226",
         "70ef23aa0bfbc755732bd4762aa084492dba2c2142b7b6105ff9e9864f9710a1"
        ]
       ],
       "shape": {
        "columns": 6,
        "rows": 5
       }
      },
      "text/html": [
       "<div>\n",
       "<style scoped>\n",
       "    .dataframe tbody tr th:only-of-type {\n",
       "        vertical-align: middle;\n",
       "    }\n",
       "\n",
       "    .dataframe tbody tr th {\n",
       "        vertical-align: top;\n",
       "    }\n",
       "\n",
       "    .dataframe thead th {\n",
       "        text-align: right;\n",
       "    }\n",
       "</style>\n",
       "<table border=\"1\" class=\"dataframe\">\n",
       "  <thead>\n",
       "    <tr style=\"text-align: right;\">\n",
       "      <th></th>\n",
       "      <th>name</th>\n",
       "      <th>image_id</th>\n",
       "      <th>face_id</th>\n",
       "      <th>url</th>\n",
       "      <th>bbox</th>\n",
       "      <th>sha256</th>\n",
       "    </tr>\n",
       "  </thead>\n",
       "  <tbody>\n",
       "    <tr>\n",
       "      <th>0</th>\n",
       "      <td>Alan Arkin</td>\n",
       "      <td>2850</td>\n",
       "      <td>1638</td>\n",
       "      <td>http://www.images99.com/i99/01/11318/11318.jpg</td>\n",
       "      <td>183,47,291,155</td>\n",
       "      <td>bc98b2174020a261ca4f8cd9b912f4087d3e1b2d7b4062...</td>\n",
       "    </tr>\n",
       "    <tr>\n",
       "      <th>1</th>\n",
       "      <td>Alan Arkin</td>\n",
       "      <td>2845</td>\n",
       "      <td>1637</td>\n",
       "      <td>http://www.aceshowbiz.com/images/wennpic/newla...</td>\n",
       "      <td>394,47,508,161</td>\n",
       "      <td>f83edaec4b768d29c284ccd52d17ad693712a93168b658...</td>\n",
       "    </tr>\n",
       "    <tr>\n",
       "      <th>2</th>\n",
       "      <td>Alan Arkin</td>\n",
       "      <td>2844</td>\n",
       "      <td>1636</td>\n",
       "      <td>http://www.superiorpics.com/wallpaper/file/Ala...</td>\n",
       "      <td>188,109,368,289</td>\n",
       "      <td>4b100701994e3f658ca2d559600a7a4699d99259dfee0c...</td>\n",
       "    </tr>\n",
       "    <tr>\n",
       "      <th>3</th>\n",
       "      <td>Alan Arkin</td>\n",
       "      <td>2843</td>\n",
       "      <td>1635</td>\n",
       "      <td>http://famous-relationships.topsynergy.com/%21...</td>\n",
       "      <td>24,38,138,152</td>\n",
       "      <td>e9ce19ad6406a9a01b43921cdac2d86cd0ebc193f0df45...</td>\n",
       "    </tr>\n",
       "    <tr>\n",
       "      <th>4</th>\n",
       "      <td>Alan Arkin</td>\n",
       "      <td>2842</td>\n",
       "      <td>1634</td>\n",
       "      <td>http://www.horsetrackhooligans.com/wp-content/...</td>\n",
       "      <td>20,68,178,226</td>\n",
       "      <td>70ef23aa0bfbc755732bd4762aa084492dba2c2142b7b6...</td>\n",
       "    </tr>\n",
       "  </tbody>\n",
       "</table>\n",
       "</div>"
      ],
      "text/plain": [
       "0        name  image_id face_id  \\\n",
       "0  Alan Arkin      2850    1638   \n",
       "1  Alan Arkin      2845    1637   \n",
       "2  Alan Arkin      2844    1636   \n",
       "3  Alan Arkin      2843    1635   \n",
       "4  Alan Arkin      2842    1634   \n",
       "\n",
       "0                                                url             bbox  \\\n",
       "0     http://www.images99.com/i99/01/11318/11318.jpg   183,47,291,155   \n",
       "1  http://www.aceshowbiz.com/images/wennpic/newla...   394,47,508,161   \n",
       "2  http://www.superiorpics.com/wallpaper/file/Ala...  188,109,368,289   \n",
       "3  http://famous-relationships.topsynergy.com/%21...    24,38,138,152   \n",
       "4  http://www.horsetrackhooligans.com/wp-content/...    20,68,178,226   \n",
       "\n",
       "0                                             sha256  \n",
       "0  bc98b2174020a261ca4f8cd9b912f4087d3e1b2d7b4062...  \n",
       "1  f83edaec4b768d29c284ccd52d17ad693712a93168b658...  \n",
       "2  4b100701994e3f658ca2d559600a7a4699d99259dfee0c...  \n",
       "3  e9ce19ad6406a9a01b43921cdac2d86cd0ebc193f0df45...  \n",
       "4  70ef23aa0bfbc755732bd4762aa084492dba2c2142b7b6...  "
      ]
     },
     "execution_count": 37,
     "metadata": {},
     "output_type": "execute_result"
    }
   ],
   "source": [
    "# Make sure 'image_id' is of numeric type for proper sorting\n",
    "filtered_df['image_id'] = pd.to_numeric(filtered_df['image_id'])\n",
    "\n",
    "# Sort by 'name' and then by 'image_id' in descending order\n",
    "filtered_df = filtered_df.sort_values(by=['name', 'image_id'], ascending=[True, False])\n",
    "\n",
    "# Reset index if needed\n",
    "filtered_df = filtered_df.reset_index(drop=True)\n",
    "\n",
    "filtered_df.head()"
   ]
  },
  {
   "cell_type": "code",
   "execution_count": null,
   "metadata": {},
   "outputs": [],
   "source": []
  },
  {
   "cell_type": "code",
   "execution_count": null,
   "metadata": {},
   "outputs": [],
   "source": [
    "def download_and_detect_faces(url, filename):\n",
    "    detector = MTCNN()\n",
    "    \n",
    "    try:\n",
    "\n",
    "        response = requests.get(url, timeout=10)\n",
    "        response.raise_for_status()\n",
    "        \n",
    "        # Convert to numpy array \n",
    "        image_array = np.asarray(bytearray(response.content), dtype=np.uint8)\n",
    "        image = cv2.imdecode(image_array, cv2.IMREAD_COLOR)\n",
    "    \n",
    "        #check if image\n",
    "        if image is None:\n",
    "            return 0\n",
    "\n",
    "        # Detect faces in the image\n",
    "        result = detector.detect_faces(image)\n",
    "        if not len(result) ==1:\n",
    "            #print(f\"no face detected in {filename} number of face detected: {len(result)}\")\n",
    "            return 0\n",
    "            \n",
    "        # Only save the image if faces detected\n",
    "        cv2.imwrite(filename, image)\n",
    "        return 1\n",
    "        \n",
    "    except (requests.exceptions.RequestException, cv2.error) as e:\n",
    "        #remove image if not contain face\n",
    "        if os.path.exists(filename):\n",
    "            try:\n",
    "                os.remove(filename)\n",
    "            except OSError:\n",
    "                pass\n",
    "        return 0\n",
    "    except Exception as e:\n",
    "        # Catch any other unexpected errors\n",
    "        if os.path.exists(filename):\n",
    "            try:\n",
    "                os.remove(filename)\n",
    "            except OSError:\n",
    "                pass\n",
    "        return 0\n",
    "    \n",
    "\n",
    "    \n",
    "\n",
    "def get_image_sample(ntest_person,nval_person,facescrub_df):\n",
    "    current_num_person = 0\n",
    "\n",
    "    list_person = []\n",
    "\n",
    "    for current_person in filtered_df[\"name\"].values:\n",
    "        \n",
    "        current_ntest_person = 0\n",
    "        current_nval_person = 0\n",
    "        \n",
    "        \n",
    "        \n",
    "        if current_person in list_person:\n",
    "            continue\n",
    "        else:\n",
    "        ##buat dataset dengan data orang tersebut\n",
    "            df_persons=facescrub_df[facescrub_df[0]==current_person]\n",
    "            \n",
    "            train_path = 'dataset/stagging/sampleset/'+current_person\n",
    "            val_path = 'dataset/stagging/validationset/'+current_person\n",
    "            test_path = 'dataset/stagging/testingset/'+current_person\n",
    "            ##buat folder untuk orang tersebut\n",
    "            if not os.path.exists(train_path):\n",
    "                \n",
    "                os.makedirs(train_path)\n",
    "            if not os.path.exists(test_path):\n",
    "                os.makedirs(test_path)\n",
    "\n",
    "            len_train = print(f\"dwonload image person={current_person} num_image={df_persons.shape[0]}\")\n",
    "            \n",
    "            \n",
    "            list_index_person=[]\n",
    "                    #get random index\n",
    "                i = np.random.randint(0, df_persons.shape[0])\n",
    "                if i in list_index_person:\n",
    "                    continue\n",
    "                else:\n",
    "                    list_index_person.append(i)\n",
    "                    ##ambil url gambar\n",
    "                    url = df_persons.iloc[i,3]\n",
    "                    ##download gambar\n",
    "                    isdownload=download_and_detect_faces(url, train_path+'/'+current_person+'_'+str(current_ntrain_person+1)+'.jpg')\n",
    "                    if isdownload==1:\n",
    "                        current_ntrain_person+=1\n",
    "                        if current_ntrain_person % 10 == 0:\n",
    "                            print(f\"sample_person set image added for {current_person}: {current_ntrain_person}\")\n",
    "            while current_nval_person<nval_person:\n",
    "                i = np.random.randint(0, df_persons.shape[0])\n",
    "                if i in list_index_person:\n",
    "                    continue\n",
    "                else:\n",
    "                    list_index_person.append(i)    \n",
    "                     ##ambil url gambar\n",
    "                    url = df_persons.iloc[i,3]\n",
    "                    ##download gambar\n",
    "                    isdownload=download_and_detect_faces(url, val_path+'/'+current_person+'_'+str(current_nval_person+1)+'.jpg')\n",
    "                    if isdownload==1:\n",
    "                        current_nval_person+=1\n",
    "                        if current_nval_person % 5 == 0:\n",
    "                            print(f\"val_person set image added for {current_person}: {current_nval_person}\")\n",
    "            while current_ntest_person<ntest_person:\n",
    "                i = np.random.randint(0, df_persons.shape[0])\n",
    "                if i in list_index_person:\n",
    "                    continue\n",
    "                else:\n",
    "                    list_index_person.append(i)    \n",
    "                     ##ambil url gambar\n",
    "                    url = df_persons.iloc[i,3]\n",
    "                    ##download gambar\n",
    "                    isdownload=download_and_detect_faces(url, test_path+'/'+current_person+'_'+str(current_ntest_person+1)+'.jpg')\n",
    "                    if isdownload==1:\n",
    "                        current_ntest_person+=1\n",
    "                        if current_ntest_person % 5 == 0:\n",
    "                            print(f\"test_person set image added fro {current_person}: {current_ntest_person}\")\n",
    "            list_person.append(current_person)\n",
    "            current_num_person+=1\n",
    "            print(f\"===  Person added: {current_person} ===\")\n"
   ]
  }
 ],
 "metadata": {
  "kernelspec": {
   "display_name": "base",
   "language": "python",
   "name": "python3"
  },
  "language_info": {
   "codemirror_mode": {
    "name": "ipython",
    "version": 3
   },
   "file_extension": ".py",
   "mimetype": "text/x-python",
   "name": "python",
   "nbconvert_exporter": "python",
   "pygments_lexer": "ipython3",
   "version": "3.12.3"
  }
 },
 "nbformat": 4,
 "nbformat_minor": 2
}
