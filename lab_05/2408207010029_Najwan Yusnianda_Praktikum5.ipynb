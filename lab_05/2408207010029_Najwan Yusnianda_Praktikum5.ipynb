{
 "cells": [
  {
   "cell_type": "markdown",
   "metadata": {},
   "source": [
    "## Hands On LLM"
   ]
  },
  {
   "cell_type": "markdown",
   "metadata": {},
   "source": [
    "## Setting Up the Environment"
   ]
  },
  {
   "cell_type": "code",
   "execution_count": null,
   "metadata": {},
   "outputs": [],
   "source": [
    "import requests\n",
    "import os\n",
    "\n",
    "MISTRAL_API_KEY='input api'\n",
    "HUGGINGFACE_API_TOKEN='input token'\n",
    "\n",
    "os.environ[\"MISTRAL_API_KEY\"] = MISTRAL_API_KEY\n",
    "os.environ[\"HUGGINGFACE_API_KEY\"] = HUGGINGFACE_API_TOKEN"
   ]
  },
  {
   "cell_type": "markdown",
   "metadata": {},
   "source": [
    "## Using Mistral API for Text Generation"
   ]
  },
  {
   "cell_type": "code",
   "execution_count": 8,
   "metadata": {},
   "outputs": [
    {
     "name": "stdout",
     "output_type": "stream",
     "text": [
      "{'id': '161ab6ddfbc645c09d46d4f60018ac44', 'object': 'chat.completion', 'created': 1741939496, 'model': 'mistral-small', 'choices': [{'index': 0, 'message': {'role': 'assistant', 'tool_calls': None, 'content': 'The United States is a federal republic composed of 50 states, and it does not have a capital city in the same way that many other countries do. However, each of the 50 states has its own capital city.\\n\\nThe federal government of the United States is based in the District of Columbia, which is a federal district that is not part of any state. The city of Washington, which is located within the District of Columbia, serves as the seat of the federal government and is often referred to as the \"capital\" of the United States in a metonymical sense.\\n\\nSo, to answer your question, the capital of the United States, in the sense of the seat of the federal government, is Washington, D.C.'}, 'finish_reason': 'stop'}], 'usage': {'prompt_tokens': 14, 'total_tokens': 169, 'completion_tokens': 155}}\n",
      "The United States is a federal republic composed of 50 states, and it does not have a capital city in the same way that many other countries do. However, each of the 50 states has its own capital city.\n",
      "\n",
      "The federal government of the United States is based in the District of Columbia, which is a federal district that is not part of any state. The city of Washington, which is located within the District of Columbia, serves as the seat of the federal government and is often referred to as the \"capital\" of the United States in a metonymical sense.\n",
      "\n",
      "So, to answer your question, the capital of the United States, in the sense of the seat of the federal government, is Washington, D.C.\n"
     ]
    }
   ],
   "source": [
    "headers = {\"Authorization\": f\"Bearer {MISTRAL_API_KEY}\", \"Content-Type\":\n",
    "\"application/json\"}\n",
    "\n",
    "data = {\n",
    "\"model\": \"mistral-small\", # Ensure this is a valid model\n",
    "\"messages\": [{\"role\": \"user\", \"content\": \"What is capital of US?\"}]\n",
    "}\n",
    "response = requests.post(\"https://api.mistral.ai/v1/chat/completions\", json=data,\n",
    "headers=headers)\n",
    "# Print full API response to check for errors\n",
    "print(response.json())\n",
    "# Extract response if available\n",
    "if \"choices\" in response.json():\n",
    "    print(response.json()[\"choices\"][0][\"message\"][\"content\"])\n",
    "else:\n",
    "    print(\"Error: 'choices' key not found in response\")"
   ]
  },
  {
   "cell_type": "markdown",
   "metadata": {},
   "source": [
    "## Using Hugging Face API for NLP Tasks"
   ]
  },
  {
   "cell_type": "code",
   "execution_count": 20,
   "metadata": {},
   "outputs": [
    {
     "name": "stdout",
     "output_type": "stream",
     "text": [
      "[{'generated_text': 'aceh (disambiguation) Aceh is a genus of '}]\n"
     ]
    }
   ],
   "source": [
    "API_URL = \"https://router.huggingface.co/hf-inference/models/google/flan-t5-small\"\n",
    "headers = {\n",
    "    \"Authorization\": f\"Bearer {HUGGINGFACE_API_TOKEN}\",\n",
    "    \"Content-Type\": \"application/json\"\n",
    "}\n",
    "\n",
    "def query(payload):\n",
    "    response = requests.post(API_URL, headers=headers, json=payload)\n",
    "    return response.json()\n",
    "\n",
    "    \n",
    "output = query({\"inputs\": \"What is aceh?\"})\n",
    "print(output)\n"
   ]
  },
  {
   "cell_type": "markdown",
   "metadata": {},
   "source": [
    "## Comparing Mistral and Hugging Face Responses"
   ]
  },
  {
   "cell_type": "code",
   "execution_count": 21,
   "metadata": {},
   "outputs": [
    {
     "name": "stdout",
     "output_type": "stream",
     "text": [
      "Mistral Response:\n",
      "Aceh is a special region located at the northern tip of the island of Sumatra, in Indonesia. It is the westernmost province of Indonesia and has significant cultural and historical differences from the rest of the country. Aceh is known for its rich natural resources, including oil and gas, and for its strong adherence to Islam. The province was also the epicenter of the devastating Indian Ocean tsunami in 2004, which caused widespread destruction and loss of life. Aceh has its own local government and enjoys a high degree of autonomy within the Indonesian federation.\n",
      "\n",
      "Hugging Face Response:\n",
      "[{'generated_text': 'ethiopia'}]\n"
     ]
    }
   ],
   "source": [
    "import requests\n",
    "\n",
    "def compare_apis(prompt,MISTRAL_API_KEY, HUGGINGFACE_API_TOKEN):\n",
    "    # Mistral API\n",
    "    #MISTRAL_API_KEY = \"your_mistral_api_key\"  # Replace with your Mistral API key\n",
    "    mistral_headers = {\n",
    "        \"Authorization\": f\"Bearer {MISTRAL_API_KEY}\",\n",
    "        \"Content-Type\": \"application/json\"\n",
    "    }\n",
    "    \n",
    "    mistral_data = {\n",
    "        \"model\": \"mistral-small\",\n",
    "        \"messages\": [{\"role\": \"user\", \"content\": prompt}]\n",
    "    }\n",
    "    \n",
    "    try:\n",
    "        mistral_response = requests.post(\n",
    "            \"https://api.mistral.ai/v1/chat/completions\",\n",
    "            json=mistral_data,\n",
    "            headers=mistral_headers\n",
    "        )\n",
    "        mistral_output = mistral_response.json().get(\"choices\", [{}])[0].get(\"message\", {}).get(\"content\", \"No response\")\n",
    "    except Exception as e:\n",
    "        mistral_output = f\"Mistral API Error: {str(e)}\"\n",
    "\n",
    "    # Hugging Face API\n",
    "    #HUGGINGFACE_API_TOKEN = \"your_huggingface_token\"  # Replace with your Hugging Face token\n",
    "    huggingface_headers = {\n",
    "        \"Authorization\": f\"Bearer {HUGGINGFACE_API_TOKEN}\",\n",
    "        \"Content-Type\": \"application/json\"\n",
    "    }\n",
    "    \n",
    "    try:\n",
    "        huggingface_response = requests.post(\n",
    "            \"https://api-inference.huggingface.co/models/google/flan-t5-small\",\n",
    "            headers=huggingface_headers,\n",
    "            json={\"inputs\": prompt}\n",
    "        )\n",
    "        huggingface_output = huggingface_response.json()\n",
    "    except Exception as e:\n",
    "        huggingface_output = f\"Hugging Face API Error: {str(e)}\"\n",
    "\n",
    "    # Print results\n",
    "    print(\"Mistral Response:\")\n",
    "    print(mistral_output)\n",
    "    print(\"\\nHugging Face Response:\")\n",
    "    print(huggingface_output)\n",
    "\n",
    "# Test the function\n",
    "test_prompt = \"Where is Aceh?\"\n",
    "compare_apis(test_prompt,MISTRAL_API_KEY, HUGGINGFACE_API_TOKEN)"
   ]
  }
 ],
 "metadata": {
  "kernelspec": {
   "display_name": "base",
   "language": "python",
   "name": "python3"
  },
  "language_info": {
   "codemirror_mode": {
    "name": "ipython",
    "version": 3
   },
   "file_extension": ".py",
   "mimetype": "text/x-python",
   "name": "python",
   "nbconvert_exporter": "python",
   "pygments_lexer": "ipython3",
   "version": "3.12.3"
  }
 },
 "nbformat": 4,
 "nbformat_minor": 2
}
